{
 "cells": [
  {
   "cell_type": "code",
   "execution_count": 19,
   "id": "95030a5c",
   "metadata": {},
   "outputs": [
    {
     "name": "stdout",
     "output_type": "stream",
     "text": [
      "listening...\n",
      "BTS\n",
      "ayeshanazakatofficial+1@gmail.com\n",
      "listening...\n",
      "listening...\n",
      "ice cream\n",
      "listening...\n",
      "I like ice cream\n"
     ]
    }
   ],
   "source": [
    "#!pip install email\n",
    "import smtplib\n",
    "import speech_recognition as sr\n",
    "import pyttsx3\n",
    "from email.message import EmailMessage\n",
    "\n",
    "listener = sr.Recognizer()\n",
    "engine = pyttsx3.init()\n",
    "\n",
    "\n",
    "def talk(text):\n",
    "    engine.say(text)\n",
    "    engine.runAndWait()\n",
    "\n",
    "\n",
    "def get_info():\n",
    "    try:\n",
    "        with sr.Microphone() as source:\n",
    "            print('listening...')\n",
    "            voice = listener.listen(source)\n",
    "            info = listener.recognize_google(voice)\n",
    "            print(info)\n",
    "            return info.lower()\n",
    "    except:\n",
    "        pass\n",
    "\n",
    "\n",
    "def send_email(receiver, subject, message):\n",
    "    server = smtplib.SMTP('smtp.gmail.com', 587)\n",
    "    server.starttls()\n",
    "    # Make sure to give app access in your Google account\n",
    "    server.login('ayesha@gmail.com', 'password')\n",
    "    \n",
    "    email = EmailMessage()\n",
    "    email['From'] = 'Sender_Email'\n",
    "    email['To'] = receiver\n",
    "    email['Subject'] = subject\n",
    "    email['Bcc'] = receiver \n",
    "    email.set_content(message)\n",
    "    server.send_message(email)\n",
    "\n",
    "\n",
    "email_list = {\n",
    "    'dude': 'COOL_DUDE_EMAIL',\n",
    "    'bts': 'ayeshanazakatofficial+1@gmail.com',\n",
    "    'pink': 'jennie@blackpink.com',\n",
    "    'lisa': 'lisa@blackpink.com',\n",
    "    'irene': 'irene@redvelvet.com'\n",
    "}\n",
    "\n",
    "\n",
    "def get_email_info():\n",
    "    talk('To Whom you want to send email')\n",
    "    name = get_info()\n",
    "    receiver = email_list[name]\n",
    "    print(receiver)\n",
    "    talk('What is the subject of your email?')\n",
    "    subject = get_info()\n",
    "    talk('Tell me the text in your email')\n",
    "    message = get_info()\n",
    "    send_email(receiver, subject, message)\n",
    "    talk('Your email is sent')\n",
    "    talk('Do you want to send more email?')\n",
    "    send_more = get_info()\n",
    "    if 'yes' in send_more:\n",
    "        get_email_info()\n",
    "\n",
    "\n",
    "get_email_info()"
   ]
  }
 ],
 "metadata": {
  "kernelspec": {
   "display_name": "Python 3 (ipykernel)",
   "language": "python",
   "name": "python3"
  },
  "language_info": {
   "codemirror_mode": {
    "name": "ipython",
    "version": 3
   },
   "file_extension": ".py",
   "mimetype": "text/x-python",
   "name": "python",
   "nbconvert_exporter": "python",
   "pygments_lexer": "ipython3",
   "version": "3.9.12"
  }
 },
 "nbformat": 4,
 "nbformat_minor": 5
}
